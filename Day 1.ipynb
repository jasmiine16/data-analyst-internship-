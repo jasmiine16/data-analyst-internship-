{
  "nbformat": 4,
  "nbformat_minor": 0,
  "metadata": {
    "colab": {
      "provenance": []
    },
    "kernelspec": {
      "name": "python3",
      "display_name": "Python 3"
    },
    "language_info": {
      "name": "python"
    }
  },
  "cells": [
    {
      "cell_type": "code",
      "source": [
        "import pandas as pd\n",
        "\n",
        "df = pd.read_csv('marketing_campaign.csv', sep='\\t')\n",
        "\n",
        "df.columns = df.columns.str.strip().str.lower().str.replace(' ', '_')\n",
        "\n",
        "#Check for missing values\n",
        "print(\"\\nMissing values in each column:\\n\")\n",
        "print(df.isnull().sum())\n",
        "\n",
        "# Example: Handle missing values for 'income'\n",
        "if 'income' in df.columns:\n",
        "    df['income'] = df['income'].fillna(df['income'].median())\n",
        "\n",
        "df = df.drop_duplicates()\n",
        "\n",
        "\n",
        "if 'education' in df.columns:\n",
        "    df['education'] = df['education'].str.strip().str.title()\n",
        "\n",
        "if 'marital_status' in df.columns:\n",
        "    df['marital_status'] = df['marital_status'].str.strip().str.title()\n",
        "\n",
        "if 'dt_customer' in df.columns:\n",
        "    df['dt_customer'] = pd.to_datetime(df['dt_customer'], dayfirst=True)\n",
        "\n",
        "if 'year_birth' in df.columns:\n",
        "    df['year_birth'] = df['year_birth'].astype(int)\n",
        "\n",
        "if 'income' in df.columns:\n",
        "    df['income'] = df['income'].astype(float)\n",
        "\n",
        "print(\"\\nCleaned Data Types:\\n\")\n",
        "print(df.dtypes)\n",
        "\n",
        "print(\"\\nData cleaning completed successfully!\")\n",
        "\n"
      ],
      "metadata": {
        "colab": {
          "base_uri": "https://localhost:8080/"
        },
        "id": "XHSoYVlv2r0f",
        "outputId": "171cf7bb-2070-48c8-9e87-f617a543b3d5"
      },
      "execution_count": 11,
      "outputs": [
        {
          "output_type": "stream",
          "name": "stdout",
          "text": [
            "\n",
            "Missing values in each column:\n",
            "\n",
            "id                      0\n",
            "year_birth              0\n",
            "education               0\n",
            "marital_status          0\n",
            "income                 24\n",
            "kidhome                 0\n",
            "teenhome                0\n",
            "dt_customer             0\n",
            "recency                 0\n",
            "mntwines                0\n",
            "mntfruits               0\n",
            "mntmeatproducts         0\n",
            "mntfishproducts         0\n",
            "mntsweetproducts        0\n",
            "mntgoldprods            0\n",
            "numdealspurchases       0\n",
            "numwebpurchases         0\n",
            "numcatalogpurchases     0\n",
            "numstorepurchases       0\n",
            "numwebvisitsmonth       0\n",
            "acceptedcmp3            0\n",
            "acceptedcmp4            0\n",
            "acceptedcmp5            0\n",
            "acceptedcmp1            0\n",
            "acceptedcmp2            0\n",
            "complain                0\n",
            "z_costcontact           0\n",
            "z_revenue               0\n",
            "response                0\n",
            "dtype: int64\n",
            "\n",
            "Cleaned Data Types:\n",
            "\n",
            "id                              int64\n",
            "year_birth                      int64\n",
            "education                      object\n",
            "marital_status                 object\n",
            "income                        float64\n",
            "kidhome                         int64\n",
            "teenhome                        int64\n",
            "dt_customer            datetime64[ns]\n",
            "recency                         int64\n",
            "mntwines                        int64\n",
            "mntfruits                       int64\n",
            "mntmeatproducts                 int64\n",
            "mntfishproducts                 int64\n",
            "mntsweetproducts                int64\n",
            "mntgoldprods                    int64\n",
            "numdealspurchases               int64\n",
            "numwebpurchases                 int64\n",
            "numcatalogpurchases             int64\n",
            "numstorepurchases               int64\n",
            "numwebvisitsmonth               int64\n",
            "acceptedcmp3                    int64\n",
            "acceptedcmp4                    int64\n",
            "acceptedcmp5                    int64\n",
            "acceptedcmp1                    int64\n",
            "acceptedcmp2                    int64\n",
            "complain                        int64\n",
            "z_costcontact                   int64\n",
            "z_revenue                       int64\n",
            "response                        int64\n",
            "dtype: object\n",
            "\n",
            "Data cleaning completed successfully!\n"
          ]
        }
      ]
    },
    {
      "cell_type": "code",
      "source": [],
      "metadata": {
        "id": "xiv99AyP4-D-"
      },
      "execution_count": null,
      "outputs": []
    }
  ]
}